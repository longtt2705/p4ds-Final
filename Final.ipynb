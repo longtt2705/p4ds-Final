{
 "cells": [
  {
   "cell_type": "markdown",
   "metadata": {},
   "source": [
    "Đồ án cuối kỳ\n",
    "Thành viên:\n",
    "Họ tên: Trần Phúc Nguyên\n",
    "MSSV: 18120488\n",
    "Họ tên: Trần Thành Long\n",
    "MSSV: 18120455"
   ]
  },
  {
   "cell_type": "markdown",
   "metadata": {},
   "source": [
    "## Import các thư viện cần thiết"
   ]
  },
  {
   "cell_type": "code",
   "execution_count": 1,
   "metadata": {},
   "outputs": [],
   "source": [
    "import pandas as pd\n",
    "import matplotlib.pyplot as plt\n",
    "import numpy as np\n"
   ]
  },
  {
   "cell_type": "markdown",
   "metadata": {},
   "source": [
    "---"
   ]
  },
  {
   "cell_type": "markdown",
   "metadata": {},
   "source": [
    "## Thu thập dữ liệu"
   ]
  },
  {
   "cell_type": "markdown",
   "metadata": {},
   "source": [
    "Trong bài này, ta sẽ dùng dữ liệu đã được thu thập sẵn là file \"vgsales.csv\" đính kèm; đây là dữ liệu về danh sách các video game đã bán hơn 100,000 bản(\"vgsales\" là viết tắt của \"video games sales\"). Dữ liệu này được lấy từ trang Kaggle link trang:(https://www.kaggle.com/gregorut/videogamesales). \\\n",
    "Lần cuối dữ liệu được update là 26/10/2016.\n",
    "Dữ liệu được thu thập bằng cách sử dụng BeautifulSoup của Python(link script: https://github.com/GregorUT/vgchartzScrape.) để cào dữ liệu từ website vgchartz.com.\n",
    "Dữ liệu không có License."
   ]
  },
  {
   "cell_type": "markdown",
   "metadata": {},
   "source": [
    "---"
   ]
  },
  {
   "cell_type": "markdown",
   "metadata": {},
   "source": [
    "## Khám phá dữ liệu"
   ]
  },
  {
   "cell_type": "markdown",
   "metadata": {},
   "source": [
    "### Đọc dữ liệu từ file csv vào dataframe"
   ]
  },
  {
   "cell_type": "code",
   "execution_count": 2,
   "metadata": {},
   "outputs": [
    {
     "data": {
      "text/html": [
       "<div>\n",
       "<style scoped>\n",
       "    .dataframe tbody tr th:only-of-type {\n",
       "        vertical-align: middle;\n",
       "    }\n",
       "\n",
       "    .dataframe tbody tr th {\n",
       "        vertical-align: top;\n",
       "    }\n",
       "\n",
       "    .dataframe thead th {\n",
       "        text-align: right;\n",
       "    }\n",
       "</style>\n",
       "<table border=\"1\" class=\"dataframe\">\n",
       "  <thead>\n",
       "    <tr style=\"text-align: right;\">\n",
       "      <th></th>\n",
       "      <th>Rank</th>\n",
       "      <th>Name</th>\n",
       "      <th>Platform</th>\n",
       "      <th>Year</th>\n",
       "      <th>Genre</th>\n",
       "      <th>Publisher</th>\n",
       "      <th>NA_Sales</th>\n",
       "      <th>EU_Sales</th>\n",
       "      <th>JP_Sales</th>\n",
       "      <th>Other_Sales</th>\n",
       "      <th>Global_Sales</th>\n",
       "    </tr>\n",
       "  </thead>\n",
       "  <tbody>\n",
       "    <tr>\n",
       "      <th>0</th>\n",
       "      <td>1</td>\n",
       "      <td>Wii Sports</td>\n",
       "      <td>Wii</td>\n",
       "      <td>2006.0</td>\n",
       "      <td>Sports</td>\n",
       "      <td>Nintendo</td>\n",
       "      <td>41.49</td>\n",
       "      <td>29.02</td>\n",
       "      <td>3.77</td>\n",
       "      <td>8.46</td>\n",
       "      <td>82.74</td>\n",
       "    </tr>\n",
       "    <tr>\n",
       "      <th>1</th>\n",
       "      <td>2</td>\n",
       "      <td>Super Mario Bros.</td>\n",
       "      <td>NES</td>\n",
       "      <td>1985.0</td>\n",
       "      <td>Platform</td>\n",
       "      <td>Nintendo</td>\n",
       "      <td>29.08</td>\n",
       "      <td>3.58</td>\n",
       "      <td>6.81</td>\n",
       "      <td>0.77</td>\n",
       "      <td>40.24</td>\n",
       "    </tr>\n",
       "    <tr>\n",
       "      <th>2</th>\n",
       "      <td>3</td>\n",
       "      <td>Mario Kart Wii</td>\n",
       "      <td>Wii</td>\n",
       "      <td>2008.0</td>\n",
       "      <td>Racing</td>\n",
       "      <td>Nintendo</td>\n",
       "      <td>15.85</td>\n",
       "      <td>12.88</td>\n",
       "      <td>3.79</td>\n",
       "      <td>3.31</td>\n",
       "      <td>35.82</td>\n",
       "    </tr>\n",
       "    <tr>\n",
       "      <th>3</th>\n",
       "      <td>4</td>\n",
       "      <td>Wii Sports Resort</td>\n",
       "      <td>Wii</td>\n",
       "      <td>2009.0</td>\n",
       "      <td>Sports</td>\n",
       "      <td>Nintendo</td>\n",
       "      <td>15.75</td>\n",
       "      <td>11.01</td>\n",
       "      <td>3.28</td>\n",
       "      <td>2.96</td>\n",
       "      <td>33.00</td>\n",
       "    </tr>\n",
       "    <tr>\n",
       "      <th>4</th>\n",
       "      <td>5</td>\n",
       "      <td>Pokemon Red/Pokemon Blue</td>\n",
       "      <td>GB</td>\n",
       "      <td>1996.0</td>\n",
       "      <td>Role-Playing</td>\n",
       "      <td>Nintendo</td>\n",
       "      <td>11.27</td>\n",
       "      <td>8.89</td>\n",
       "      <td>10.22</td>\n",
       "      <td>1.00</td>\n",
       "      <td>31.37</td>\n",
       "    </tr>\n",
       "  </tbody>\n",
       "</table>\n",
       "</div>"
      ],
      "text/plain": [
       "   Rank                      Name Platform    Year         Genre Publisher  \\\n",
       "0     1                Wii Sports      Wii  2006.0        Sports  Nintendo   \n",
       "1     2         Super Mario Bros.      NES  1985.0      Platform  Nintendo   \n",
       "2     3            Mario Kart Wii      Wii  2008.0        Racing  Nintendo   \n",
       "3     4         Wii Sports Resort      Wii  2009.0        Sports  Nintendo   \n",
       "4     5  Pokemon Red/Pokemon Blue       GB  1996.0  Role-Playing  Nintendo   \n",
       "\n",
       "   NA_Sales  EU_Sales  JP_Sales  Other_Sales  Global_Sales  \n",
       "0     41.49     29.02      3.77         8.46         82.74  \n",
       "1     29.08      3.58      6.81         0.77         40.24  \n",
       "2     15.85     12.88      3.79         3.31         35.82  \n",
       "3     15.75     11.01      3.28         2.96         33.00  \n",
       "4     11.27      8.89     10.22         1.00         31.37  "
      ]
     },
     "execution_count": 2,
     "metadata": {},
     "output_type": "execute_result"
    }
   ],
   "source": [
    "vgsales_df = pd.read_csv('vgsales.csv')\n",
    "vgsales_df.head()"
   ]
  },
  {
   "cell_type": "markdown",
   "metadata": {},
   "source": [
    "### Dữ liệu gồm có bao nhiêu dòng và bao nhiêu cột?"
   ]
  },
  {
   "cell_type": "code",
   "execution_count": 3,
   "metadata": {},
   "outputs": [
    {
     "data": {
      "text/plain": [
       "(16598, 11)"
      ]
     },
     "execution_count": 3,
     "metadata": {},
     "output_type": "execute_result"
    }
   ],
   "source": [
    "num_rows, num_cols = vgsales_df.shape\n",
    "num_rows, num_cols"
   ]
  },
  {
   "cell_type": "markdown",
   "metadata": {},
   "source": [
    "### Mỗi dòng có ý nghĩa gì? Có vấn đề các dòng có ý nghĩa khác nhau không?"
   ]
  },
  {
   "cell_type": "markdown",
   "metadata": {},
   "source": [
    "Theo mô tả dữ liệu của nguồn từ trang Kaggle và theo quan sát sơ bộ về dữ liệu thì một dòng cho biết thông tin về sales của một tựa game nào đó. Có vẻ không có dòng nào bị \"lạc loài\"."
   ]
  },
  {
   "cell_type": "markdown",
   "metadata": {},
   "source": [
    "### Dữ liệu có các dòng bị lặp không?"
   ]
  },
  {
   "cell_type": "code",
   "execution_count": 4,
   "metadata": {},
   "outputs": [
    {
     "data": {
      "text/plain": [
       "False"
      ]
     },
     "execution_count": 4,
     "metadata": {},
     "output_type": "execute_result"
    }
   ],
   "source": [
    "vgsales_df.duplicated().any()"
   ]
  },
  {
   "cell_type": "markdown",
   "metadata": {},
   "source": [
    "### Mỗi cột có ý nghĩa gì?"
   ]
  },
  {
   "cell_type": "markdown",
   "metadata": {},
   "source": [
    "Dưới đây là phần mô tả của nguồn từ trang Kaggle về các cột trong file \"vgsales.csv\"\n",
    "\n",
    "- **Rank:** Ranking of overall sales\n",
    "\n",
    "- **Name:** The games name\n",
    "\n",
    "- **Platform:** Platform of the games release (i.e. PC,PS4, etc.)\n",
    "\n",
    "- **Year:** Year of the game's release\n",
    "\n",
    "- **Genre:** Genre of the game\n",
    "\n",
    "- **Publisher:** Publisher of the game\n",
    "\n",
    "- **NA_Sales:** Sales in North America (in millions)\n",
    "\n",
    "- **EU_Sales:** Sales in Europe (in millions)\n",
    "\n",
    "- **JP_Sales:** Sales in Japan (in millions)\n",
    "\n",
    "- **Other_Sales:** Sales in the rest of the world (in millions)\n",
    "\n",
    "- **Global_Sales:** Total worldwide sales."
   ]
  },
  {
   "cell_type": "markdown",
   "metadata": {},
   "source": [
    "### Mỗi cột hiện đang có kiểu dữ liệu gì? Có cột nào có kiểu dữ liệu chưa phù hợp để có thể xử lý tiếp không? "
   ]
  },
  {
   "cell_type": "code",
   "execution_count": 5,
   "metadata": {},
   "outputs": [
    {
     "data": {
      "text/plain": [
       "Rank              int64\n",
       "Name             object\n",
       "Platform         object\n",
       "Year            float64\n",
       "Genre            object\n",
       "Publisher        object\n",
       "NA_Sales        float64\n",
       "EU_Sales        float64\n",
       "JP_Sales        float64\n",
       "Other_Sales     float64\n",
       "Global_Sales    float64\n",
       "dtype: object"
      ]
     },
     "execution_count": 5,
     "metadata": {},
     "output_type": "execute_result"
    }
   ],
   "source": [
    "vgsales_df.dtypes"
   ]
  },
  {
   "cell_type": "markdown",
   "metadata": {},
   "source": [
    "`vgsales_df` có 4 cột có `dtype` là `object`: \"Name\", \"Platform\", \"Genre\", \"Publisher\". Trong HW3, chúng ta đã hiểu về ý nghĩa của `object` trong Pandas. Chúng ta cũng sẽ viết một hàm nhận đầu vào là một cột `s` (series) có `dtype` là `object` và trả về tập các kiểu dữ liệu thật sự có trong cột này."
   ]
  },
  {
   "cell_type": "code",
   "execution_count": 6,
   "metadata": {},
   "outputs": [],
   "source": [
    "def open_object_dtype(s):\n",
    "    dtypes = set()\n",
    "    s.apply(lambda x: dtypes.add(type(x)))\n",
    "    return dtypes"
   ]
  },
  {
   "cell_type": "code",
   "execution_count": 7,
   "metadata": {},
   "outputs": [
    {
     "name": "stdout",
     "output_type": "stream",
     "text": [
      "{<class 'str'>}\n",
      "{<class 'str'>}\n",
      "{<class 'str'>}\n",
      "{<class 'str'>, <class 'float'>}\n"
     ]
    }
   ],
   "source": [
    "print(open_object_dtype(vgsales_df['Name']))\n",
    "print(open_object_dtype(vgsales_df['Platform']))\n",
    "print(open_object_dtype(vgsales_df['Genre']))\n",
    "print(open_object_dtype(vgsales_df['Publisher']))"
   ]
  },
  {
   "cell_type": "markdown",
   "metadata": {},
   "source": [
    "Chúng ta sẽ kiểm tra xem tại sao lại có các gìá trị `float` ở cột `Year` và cột `Publisher`. Dự đoán có thể là do sự tồn tại của các giá trị NaN ở các cột này. Chúng ta sẽ kiểm tra thử số lượng các giá trị NaN của các cột."
   ]
  },
  {
   "cell_type": "code",
   "execution_count": 8,
   "metadata": {},
   "outputs": [
    {
     "data": {
      "text/plain": [
       "Rank              0\n",
       "Name              0\n",
       "Platform          0\n",
       "Year            271\n",
       "Genre             0\n",
       "Publisher        58\n",
       "NA_Sales          0\n",
       "EU_Sales          0\n",
       "JP_Sales          0\n",
       "Other_Sales       0\n",
       "Global_Sales      0\n",
       "dtype: int64"
      ]
     },
     "execution_count": 8,
     "metadata": {},
     "output_type": "execute_result"
    }
   ],
   "source": [
    "vgsales_df.isna().sum()"
   ]
  },
  {
   "cell_type": "markdown",
   "metadata": {},
   "source": [
    "Như vậy dự đoán của chúng ta là chính xác, sự xuất hiện của các giá trị NaN ở cột `Year` và `Publisher` có thể là do các tựa game này là một các tựa game nhỏ được phát triển bởi vài cá nhân, nên chúng ta không có thông tin chi tiết về."
   ]
  },
  {
   "cell_type": "markdown",
   "metadata": {},
   "source": [
    "**Vấn đề cần tiền xử lý:**\n",
    "- Cột `Year` không nhất thiết phải chuyển về `int`, nên chúng ta sẽ tạm sử dụng dtype `float` vì có sự xuất hiện của các giá trị NaN.\n",
    "- Cột \"Publisher\" có dtype gồm 2 loại là `str` và `float`. Nếu kiểm tra thêm thì chúng ta sẽ thấy `float` là ứng với `NaN`, còn `str` là ứng với tên của nhà phát hành.  Để có thể tiếp tục khám phá thêm về cột này, ta cũng sẽ thực hiện bước tiền xử lý là chuyển tất cả sang dtype là `str`. Những cột có giá trị NaN sẽ được để khoảng trống."
   ]
  },
  {
   "cell_type": "markdown",
   "metadata": {},
   "source": [
    "---"
   ]
  },
  {
   "cell_type": "markdown",
   "metadata": {},
   "source": [
    "## Tiền xử lý"
   ]
  },
  {
   "cell_type": "markdown",
   "metadata": {},
   "source": [
    "### Chuyển dtype của cột `Publisher` về str:"
   ]
  },
  {
   "cell_type": "markdown",
   "metadata": {},
   "source": [
    "Chúng ta sẽ fill các giá trị NaN bằng `''`, sau đó sử dụng `astype` để đưa type thực sự về `str`."
   ]
  },
  {
   "cell_type": "code",
   "execution_count": 9,
   "metadata": {},
   "outputs": [
    {
     "data": {
      "text/plain": [
       "{str}"
      ]
     },
     "execution_count": 9,
     "metadata": {},
     "output_type": "execute_result"
    }
   ],
   "source": [
    "vgsales_df['Publisher'] = vgsales_df['Publisher'].fillna('').astype('str')\n",
    "open_object_dtype(vgsales_df['Publisher'])"
   ]
  },
  {
   "cell_type": "markdown",
   "metadata": {},
   "source": [
    "---"
   ]
  },
  {
   "cell_type": "markdown",
   "metadata": {},
   "source": [
    "## Khám phá dữ liệu (tiếp tục)"
   ]
  },
  {
   "cell_type": "markdown",
   "metadata": {},
   "source": [
    "### Với mỗi cột có kiểu dữ liệu dạng numeric, các giá trị được phân bố như thế nào?"
   ]
  },
  {
   "cell_type": "markdown",
   "metadata": {},
   "source": [
    "#### Định nghĩa hàm *`missing_ratio`*:"
   ]
  },
  {
   "cell_type": "code",
   "execution_count": 10,
   "metadata": {},
   "outputs": [],
   "source": [
    "def missing_ratio(s):\n",
    "    return s.isna().mean() * 100"
   ]
  },
  {
   "cell_type": "markdown",
   "metadata": {},
   "source": [
    "Hiện có 7 cột có vẻ là thuộc nhóm numeric: `Rank`, `Year`, `NA_Sales`, `EU_Sales`, `JP_Sales`, `Other_Sales`, `Global_Sales`. Tuy nhiên, cột `Rank` có vẻ thuộc nhóm categorical. Như vậy, chỉ có 5 cột numeric là `NA_Sales`, `EU_Sales`, `JP_Sales`, `Other_Sales`, `Global_Sales`. \n",
    "\n",
    "Với mỗi cột numeric chúng ta sẽ tính tỉ lệ % giá trị thiếu (từ 0 đến 100), min, max. Dataframe kết quả có 3 dòng là \"missing_ratio\", \"min\", \"max\"; và có 7 cột là `Year`, `NA_Sales`, `EU_Sales`, `JP_Sales`, `Other_Sales`, `Global_Sales`."
   ]
  },
  {
   "cell_type": "code",
   "execution_count": 11,
   "metadata": {},
   "outputs": [
    {
     "data": {
      "text/html": [
       "<div>\n",
       "<style scoped>\n",
       "    .dataframe tbody tr th:only-of-type {\n",
       "        vertical-align: middle;\n",
       "    }\n",
       "\n",
       "    .dataframe tbody tr th {\n",
       "        vertical-align: top;\n",
       "    }\n",
       "\n",
       "    .dataframe thead th {\n",
       "        text-align: right;\n",
       "    }\n",
       "</style>\n",
       "<table border=\"1\" class=\"dataframe\">\n",
       "  <thead>\n",
       "    <tr style=\"text-align: right;\">\n",
       "      <th></th>\n",
       "      <th>Year</th>\n",
       "      <th>NA_Sales</th>\n",
       "      <th>EU_Sales</th>\n",
       "      <th>JP_Sales</th>\n",
       "      <th>Other_Sales</th>\n",
       "      <th>Global_Sales</th>\n",
       "    </tr>\n",
       "  </thead>\n",
       "  <tbody>\n",
       "    <tr>\n",
       "      <th>missing_ratio</th>\n",
       "      <td>1.632727</td>\n",
       "      <td>0.00</td>\n",
       "      <td>0.00</td>\n",
       "      <td>0.00</td>\n",
       "      <td>0.00</td>\n",
       "      <td>0.00</td>\n",
       "    </tr>\n",
       "    <tr>\n",
       "      <th>min</th>\n",
       "      <td>1980.000000</td>\n",
       "      <td>0.00</td>\n",
       "      <td>0.00</td>\n",
       "      <td>0.00</td>\n",
       "      <td>0.00</td>\n",
       "      <td>0.01</td>\n",
       "    </tr>\n",
       "    <tr>\n",
       "      <th>max</th>\n",
       "      <td>2020.000000</td>\n",
       "      <td>41.49</td>\n",
       "      <td>29.02</td>\n",
       "      <td>10.22</td>\n",
       "      <td>10.57</td>\n",
       "      <td>82.74</td>\n",
       "    </tr>\n",
       "  </tbody>\n",
       "</table>\n",
       "</div>"
      ],
      "text/plain": [
       "                      Year  NA_Sales  EU_Sales  JP_Sales  Other_Sales  \\\n",
       "missing_ratio     1.632727      0.00      0.00      0.00         0.00   \n",
       "min            1980.000000      0.00      0.00      0.00         0.00   \n",
       "max            2020.000000     41.49     29.02     10.22        10.57   \n",
       "\n",
       "               Global_Sales  \n",
       "missing_ratio          0.00  \n",
       "min                    0.01  \n",
       "max                   82.74  "
      ]
     },
     "execution_count": 11,
     "metadata": {},
     "output_type": "execute_result"
    }
   ],
   "source": [
    "nume_col_profiles_df = vgsales_df[[\"Year\", \"NA_Sales\", \"EU_Sales\", \"JP_Sales\", \"Other_Sales\", \"Global_Sales\"]].agg(\\\n",
    "    [missing_ratio, 'min', 'max'])\n",
    "nume_col_profiles_df"
   ]
  },
  {
   "cell_type": "markdown",
   "metadata": {},
   "source": [
    "Như đã phân tích, các dòng của cột `Year` sẽ có giá trị thiếu, các cột còn lại đều không có giá trị thiếu. Min và max của các cột có vẻ không có gì bất thường."
   ]
  },
  {
   "cell_type": "markdown",
   "metadata": {},
   "source": [
    "### Với mỗi cột có kiểu dữ liệu dạng categorical, các giá trị được phân bố như thế nào?"
   ]
  },
  {
   "cell_type": "markdown",
   "metadata": {},
   "source": [
    "`vgsales_df` có 6 cột categorical là `Rank`, `Name`, `Platform`, `Genre`, `Publisher`.\n",
    "\n",
    "Với mỗi cột categorical, chúng ta sẽ tính tỉ lệ % giá trị thiếu (từ 0 đến 100), số lượng giá trị khác nhau, list/array một vài các giá trị khác nhau. Dataframe kết quả có 3 dòng là \"missing_ratio\", \"num_diff_vals\", \"some_diff_vals\"; và có 5 cột là `Rank`, `Name`, `Platform`, `Genre`, `Publisher`."
   ]
  },
  {
   "cell_type": "code",
   "execution_count": 12,
   "metadata": {},
   "outputs": [
    {
     "data": {
      "text/html": [
       "<div>\n",
       "<style scoped>\n",
       "    .dataframe tbody tr th:only-of-type {\n",
       "        vertical-align: middle;\n",
       "    }\n",
       "\n",
       "    .dataframe tbody tr th {\n",
       "        vertical-align: top;\n",
       "    }\n",
       "\n",
       "    .dataframe thead th {\n",
       "        text-align: right;\n",
       "    }\n",
       "</style>\n",
       "<table border=\"1\" class=\"dataframe\">\n",
       "  <thead>\n",
       "    <tr style=\"text-align: right;\">\n",
       "      <th></th>\n",
       "      <th>Rank</th>\n",
       "      <th>Name</th>\n",
       "      <th>Platform</th>\n",
       "      <th>Genre</th>\n",
       "      <th>Publisher</th>\n",
       "    </tr>\n",
       "  </thead>\n",
       "  <tbody>\n",
       "    <tr>\n",
       "      <th>missing_ratio</th>\n",
       "      <td>0</td>\n",
       "      <td>0</td>\n",
       "      <td>0</td>\n",
       "      <td>0</td>\n",
       "      <td>0</td>\n",
       "    </tr>\n",
       "    <tr>\n",
       "      <th>num_diff_vals</th>\n",
       "      <td>16598</td>\n",
       "      <td>11493</td>\n",
       "      <td>31</td>\n",
       "      <td>12</td>\n",
       "      <td>579</td>\n",
       "    </tr>\n",
       "    <tr>\n",
       "      <th>some_diff_vals</th>\n",
       "      <td>[1, 2, 3, 4, 5, 6, 7, 8, 9, 10, 11, 12, 13, 14...</td>\n",
       "      <td>[Wii Sports, Super Mario Bros., Mario Kart Wii...</td>\n",
       "      <td>[Wii, NES, GB, DS, X360, PS3, PS2, SNES, GBA, ...</td>\n",
       "      <td>[Sports, Platform, Racing, Role-Playing, Puzzl...</td>\n",
       "      <td>[Nintendo, Microsoft Game Studios, Take-Two In...</td>\n",
       "    </tr>\n",
       "  </tbody>\n",
       "</table>\n",
       "</div>"
      ],
      "text/plain": [
       "                                                             Rank  \\\n",
       "missing_ratio                                                   0   \n",
       "num_diff_vals                                               16598   \n",
       "some_diff_vals  [1, 2, 3, 4, 5, 6, 7, 8, 9, 10, 11, 12, 13, 14...   \n",
       "\n",
       "                                                             Name  \\\n",
       "missing_ratio                                                   0   \n",
       "num_diff_vals                                               11493   \n",
       "some_diff_vals  [Wii Sports, Super Mario Bros., Mario Kart Wii...   \n",
       "\n",
       "                                                         Platform  \\\n",
       "missing_ratio                                                   0   \n",
       "num_diff_vals                                                  31   \n",
       "some_diff_vals  [Wii, NES, GB, DS, X360, PS3, PS2, SNES, GBA, ...   \n",
       "\n",
       "                                                            Genre  \\\n",
       "missing_ratio                                                   0   \n",
       "num_diff_vals                                                  12   \n",
       "some_diff_vals  [Sports, Platform, Racing, Role-Playing, Puzzl...   \n",
       "\n",
       "                                                        Publisher  \n",
       "missing_ratio                                                   0  \n",
       "num_diff_vals                                                 579  \n",
       "some_diff_vals  [Nintendo, Microsoft Game Studios, Take-Two In...  "
      ]
     },
     "execution_count": 12,
     "metadata": {},
     "output_type": "execute_result"
    }
   ],
   "source": [
    "# YOUR CODE HERE\n",
    "cate_col_profiles_df = vgsales_df[['Rank', 'Name', 'Platform', 'Genre', 'Publisher']].agg(\\\n",
    "    [missing_ratio, 'nunique', 'unique'])\n",
    "cate_col_profiles_df = cate_col_profiles_df.rename(index={'nunique':'num_diff_vals', 'unique':'some_diff_vals'})\n",
    "cate_col_profiles_df"
   ]
  },
  {
   "cell_type": "markdown",
   "metadata": {},
   "source": [
    "---"
   ]
  },
  {
   "cell_type": "markdown",
   "metadata": {},
   "source": [
    "## Đưa ra các câu hỏi cần trả lời"
   ]
  },
  {
   "cell_type": "markdown",
   "metadata": {},
   "source": [
    "Sau khi đã khám phá dữ liệu và hiểu hơn về dữ liệu, ta thấy có một số câu hỏi có thể được trả lời bằng dữ liệu:\n",
    "1. Số lượng các game được bán ra thay đổi như thế nào theo năm? \n",
    "    - *Ý nghĩa: Cung cấp một cái nhìn trực quan mức độ tăng trưởng của thị trường ngành công nghiệp phát triển video game qua từng năm.*\n",
    "2. Top 3 thể loại game được mua nhiều nhất ở từng khu vực theo từng năm?\n",
    "    - *Ý nghĩa: Biết được thể loại game yêu thích của từng khu vực cũng như toàn thế giới. Qua đó có thể có các chiến lược marketing đúng đắn cho từng khu vực.*\n",
    "3. Nhà phát triển dẫn đầu về doanh số bán ra theo từng khu vực trên thế giới trong 10 năm gần đây. Nguyên nhân nào giúp cho những nhà phát triển này hiện đang dẫn đầu?\n",
    "    - *Ý nghĩa: Tìm ra nhà phát triển game được quan tâm nhiều nhất theo từng khu vực, từ đây ta có thể tiếp tục phân tích về cách các nhà phát triển này tạo ra những game như thế nào để giúp cho họ hiện đang dẫn đầu.*\n",
    "4. Trong 5 năm gần đây,5 loại nền tảng nào có nhiều số lượng game bán chạy nhất trên từng khu vực và toàn thế giới?\n",
    "    - *Ý nghĩa: Từ đây, các nhà phát triển game sẽ biết được game của họ phát triển trên nền tảng nào sẽ thu hút được nhiều lượt mua của người dùng.*"
   ]
  },
  {
   "cell_type": "markdown",
   "metadata": {},
   "source": [
    "---"
   ]
  },
  {
   "cell_type": "markdown",
   "metadata": {},
   "source": [
    "## Phân tích dữ liệu để trả lời câu hỏi"
   ]
  },
  {
   "cell_type": "markdown",
   "metadata": {},
   "source": [
    "### Nhà phát triển dẫn đầu về doanh số bán ra theo từng khu vực trên thế giới trong 10 năm gần đây. Nguyên nhân nào giúp cho những nhà phát triển này hiện đang dẫn đầu?\n",
    "\n",
    "Để trả lời được câu hỏi cần hai bước sau:\n",
    "- **Bước 1**: Tìm ra nhà phát triển game dẫn đầu doanh số bán ra trong 10 năm gần đây trên từng khu vực và toàn thế giới.\n",
    "- **Bước 2**: Dựa trên thông tin nhà phát triển nào dẫn đầu doanh số, để biết được nguyên nhân thành công ta sẽ xét xem thể loại game nào có mức bán ra cao nhất của hảng đó. "
   ]
  },
  {
   "cell_type": "markdown",
   "metadata": {},
   "source": [
    "#### Bước 1: Tìm nhà phát triển game đang dẫn đầu trên thế giới và từng khu vực:"
   ]
  },
  {
   "cell_type": "markdown",
   "metadata": {},
   "source": [
    "*Lưu ý: Từng khu vực ở đây là chúng ta chỉ xét các khu vực cụ thể như NA,JP,EU chứ không xét đến các khu vực khác \"Other\"*"
   ]
  },
  {
   "cell_type": "markdown",
   "metadata": {},
   "source": [
    "#### Trên thế giới(World)"
   ]
  },
  {
   "cell_type": "code",
   "execution_count": 45,
   "metadata": {},
   "outputs": [
    {
     "data": {
      "image/png": "[encoded data removed]",
      "text/plain": [
       "<Figure size 432x288 with 1 Axes>"
      ]
     },
     "metadata": {
      "needs_background": "light"
     },
     "output_type": "display_data"
    }
   ],
   "source": [
    "df=vgsales_df\n",
    "pGlobal=df[df[\"Year\"]>2009].groupby('Publisher')\n",
    "pGlobal=pGlobal.Global_Sales.sum()\n",
    "pGlobal=pGlobal.sort_values().tail(10)\n",
    "pGlobal.plot.barh(title='Most sales in the last 10 Year (World)');\n",
    "plt.xlabel('Sales (in millions)');"
   ]
  },
  {
   "cell_type": "markdown",
   "metadata": {},
   "source": [
    "Như vậy dễ dàng thấy **Electronic Arts** là nhà phát triển dẫn đầu về doanh số bán ra trên thế giới trong 10 năm gần đây"
   ]
  },
  {
   "cell_type": "markdown",
   "metadata": {},
   "source": [
    "#### Tại khu vực Bắc Mỹ(NA)"
   ]
  },
  {
   "cell_type": "code",
   "execution_count": 46,
   "metadata": {},
   "outputs": [
    {
     "data": {
      "image/png": "[encoded data removed]",
      "text/plain": [
       "<Figure size 432x288 with 1 Axes>"
      ]
     },
     "metadata": {
      "needs_background": "light"
     },
     "output_type": "display_data"
    }
   ],
   "source": [
    "df=vgsales_df\n",
    "pNA=df[df[\"Year\"]>2009].groupby('Publisher')\n",
    "pNA=pNA.NA_Sales.sum()\n",
    "pNA=pNA.sort_values().tail(10)\n",
    "pNA.plot.barh(title='Most sales in the last 10 Year (NA)');\n",
    "plt.xlabel('Sales (in millions)');"
   ]
  },
  {
   "cell_type": "markdown",
   "metadata": {},
   "source": [
    "Tại khu vực Bắc mỹ thì do **Activision** là nhà phát triển dẫn đầu về doanh số bán ra cách biệt không quá xa Electronic Art."
   ]
  },
  {
   "cell_type": "markdown",
   "metadata": {},
   "source": [
    "#### Tại khu vực Châu Âu(EU)"
   ]
  },
  {
   "cell_type": "code",
   "execution_count": 47,
   "metadata": {},
   "outputs": [
    {
     "data": {
      "image/png": "[encoded data removed]",
      "text/plain": [
       "<Figure size 432x288 with 1 Axes>"
      ]
     },
     "metadata": {
      "needs_background": "light"
     },
     "output_type": "display_data"
    }
   ],
   "source": [
    "df=vgsales_df\n",
    "pEU=df[df[\"Year\"]>2009].groupby('Publisher')\n",
    "pEU=pEU.EU_Sales.sum()\n",
    "pEU=pEU.sort_values().tail(10)\n",
    "pEU.plot.barh(title='Most sales in the last 10 Year (EU)');\n",
    "plt.xlabel('Sales (in millions)');"
   ]
  },
  {
   "cell_type": "markdown",
   "metadata": {},
   "source": [
    "Tại khu vực Châu Âu vẫn do **Electronic Art** là nhà phát triển dẫn đầu về doanh số bán ra."
   ]
  },
  {
   "cell_type": "markdown",
   "metadata": {},
   "source": [
    "#### Tại khu vực Nhật Bản(JP)"
   ]
  },
  {
   "cell_type": "code",
   "execution_count": 49,
   "metadata": {},
   "outputs": [
    {
     "data": {
      "image/png": "[encoded data removed]",
      "text/plain": [
       "<Figure size 432x288 with 1 Axes>"
      ]
     },
     "metadata": {
      "needs_background": "light"
     },
     "output_type": "display_data"
    }
   ],
   "source": [
    "df=vgsales_df\n",
    "pJP=df[df[\"Year\"]>2009].groupby('Publisher')\n",
    "pJP=pJP.JP_Sales.sum()\n",
    "pJP=pJP.sort_values().tail(10)\n",
    "pJP.plot.barh(title='Most sales in the last 10 Year (JP)');\n",
    "plt.xlabel('Sales (in millions)');"
   ]
  },
  {
   "cell_type": "markdown",
   "metadata": {},
   "source": [
    "Tại khu vực Nhật Bản thì là sự áp đảo của **Nintendo** về doanh số bán ra.Khá bất ngờ là Electronic Art dẫn đầu trên thế giới và nhiều khu vực nhưng lại không có mặt trong top 10 tại khu vực Nhật Bản"
   ]
  },
  {
   "cell_type": "markdown",
   "metadata": {},
   "source": [
    "#### Bước 2: Nguyên nhân dẫn đầu về doanh số bán ra của các nhà phát triển game trên"
   ]
  },
  {
   "cell_type": "markdown",
   "metadata": {},
   "source": [
    "#### Lý do dẫn đến sự dẫn đầu của **Electronic Art** tại khu vực Châu Âu, trên Thế giới và suýt dẫn đầu tại Bắc Mỹ."
   ]
  },
  {
   "cell_type": "markdown",
   "metadata": {},
   "source": [
    "*Thế giới*"
   ]
  },
  {
   "cell_type": "code",
   "execution_count": 53,
   "metadata": {},
   "outputs": [
    {
     "data": {
      "image/png": "[encoded data removed]",
      "text/plain": [
       "<Figure size 432x288 with 1 Axes>"
      ]
     },
     "metadata": {
      "needs_background": "light"
     },
     "output_type": "display_data"
    }
   ],
   "source": [
    "EA=vgsales_df[vgsales_df[\"Publisher\"]==\"Electronic Arts\"].groupby(\"Genre\").Global_Sales.sum()\n",
    "EA.sort_values().plot.barh(title='Top genre sales by Electronic Arts (Global)');\n",
    "plt.xlabel('Sales (in millions)');"
   ]
  },
  {
   "cell_type": "markdown",
   "metadata": {},
   "source": [
    "*Châu Âu*"
   ]
  },
  {
   "cell_type": "code",
   "execution_count": 54,
   "metadata": {},
   "outputs": [
    {
     "data": {
      "image/png": "[encoded data removed]",
      "text/plain": [
       "<Figure size 432x288 with 1 Axes>"
      ]
     },
     "metadata": {
      "needs_background": "light"
     },
     "output_type": "display_data"
    }
   ],
   "source": [
    "EA=vgsales_df[vgsales_df[\"Publisher\"]==\"Electronic Arts\"].groupby(\"Genre\").EU_Sales.sum()\n",
    "EA.sort_values().plot.barh(title='Top genre sales by Electronic Arts (EU)');\n",
    "plt.xlabel('Sales (in millions)');"
   ]
  },
  {
   "cell_type": "markdown",
   "metadata": {},
   "source": [
    "**Nhận xét:** Có vẻ như nguyên nhân thành công chủ yếu giúp **EA(Electronic Arts)** dẫn đầu doanh thu đến từ những trò chơi thể thao(**Sports**) của họ."
   ]
  },
  {
   "cell_type": "markdown",
   "metadata": {},
   "source": [
    "#### Nguyên nhân giúp cho **Activision** vượt mặt EA tại Bắc Mỹ(NA)."
   ]
  },
  {
   "cell_type": "code",
   "execution_count": 57,
   "metadata": {},
   "outputs": [
    {
     "data": {
      "image/png": "[encoded data removed]",
      "text/plain": [
       "<Figure size 432x288 with 1 Axes>"
      ]
     },
     "metadata": {
      "needs_background": "light"
     },
     "output_type": "display_data"
    }
   ],
   "source": [
    "AC=vgsales_df[vgsales_df[\"Publisher\"]==\"Activision\"].groupby(\"Genre\").NA_Sales.sum()\n",
    "AC.sort_values().plot.barh(title='Top genre sales by Activision (NA)');\n",
    "plt.xlabel('Sales (in millions)');"
   ]
  },
  {
   "cell_type": "markdown",
   "metadata": {},
   "source": [
    "**Nhận xét:** Có vẻ như thị hiếu ở thị trường NA đó là những tựa game bắn súng(**Shooter**) bằng chứng là thể loại này đã áp đảo về doanh số bán ra và giúp **Activision** dẫn đầu thị trường Bắc Mỹ"
   ]
  },
  {
   "cell_type": "markdown",
   "metadata": {},
   "source": [
    "#### Tại sao Nintendo không có đối thủ tại thị trường Nhật Bản(JP)."
   ]
  },
  {
   "cell_type": "code",
   "execution_count": 58,
   "metadata": {},
   "outputs": [
    {
     "data": {
      "image/png": "[encoded data removed]",
      "text/plain": [
       "<Figure size 432x288 with 1 Axes>"
      ]
     },
     "metadata": {
      "needs_background": "light"
     },
     "output_type": "display_data"
    }
   ],
   "source": [
    "N=vgsales_df[vgsales_df[\"Publisher\"]==\"Nintendo\"].groupby(\"Genre\").JP_Sales.sum()\n",
    "N.sort_values().plot.barh(title='Top genre sales by Nintendo (JP)');\n",
    "plt.xlabel('Sales (in millions)');"
   ]
  },
  {
   "cell_type": "markdown",
   "metadata": {},
   "source": [
    "**Nhận xét:** Từ biểu đồ trên dễ thấy hai thể loại game giúp **Nintendo** \"thống trị\" ở thị trường Nhật Bản(JP) đó là **Platform** và **Role-Playing**."
   ]
  },
  {
   "cell_type": "markdown",
   "metadata": {},
   "source": [
    "###  Trong 5 năm gần đây,5 loại nền tảng nào có nhiều số lượng game bán chạy nhất trên từng khu vực và toàn thế giới?\n",
    "\n",
    "Loại platform ở đây được lưu trong cột \"Platform\".Từng khu vực ở đây là chúng ta chỉ xét các khu vực cụ thể như NA,JP,EU chứ không xét đến các khu vực khác \"Other\".Kết quả được lưu vào dataframe `top5_Platform` gồm 5 dòng ứng với thứ tự xếp hạng của các platform có nhiều game bán chạy nhất, 4 cột ứng với từng khu vực \"Global\",\"NA\",\"EU\",\"JP\"."
   ]
  },
  {
   "cell_type": "code",
   "execution_count": 92,
   "metadata": {},
   "outputs": [],
   "source": [
    "def find_top5_plf(t):\n",
    "    t=t[\"Platform\"].value_counts()\n",
    "    top5=[t.index[0],t.index[1],t.index[2],t.index[3],t.index[4]]\n",
    "    return top5"
   ]
  },
  {
   "cell_type": "code",
   "execution_count": 95,
   "metadata": {},
   "outputs": [
    {
     "data": {
      "text/html": [
       "<div>\n",
       "<style scoped>\n",
       "    .dataframe tbody tr th:only-of-type {\n",
       "        vertical-align: middle;\n",
       "    }\n",
       "\n",
       "    .dataframe tbody tr th {\n",
       "        vertical-align: top;\n",
       "    }\n",
       "\n",
       "    .dataframe thead th {\n",
       "        text-align: right;\n",
       "    }\n",
       "</style>\n",
       "<table border=\"1\" class=\"dataframe\">\n",
       "  <thead>\n",
       "    <tr style=\"text-align: right;\">\n",
       "      <th></th>\n",
       "      <th>Global</th>\n",
       "      <th>NA</th>\n",
       "      <th>EU</th>\n",
       "      <th>JP</th>\n",
       "    </tr>\n",
       "  </thead>\n",
       "  <tbody>\n",
       "    <tr>\n",
       "      <th>1</th>\n",
       "      <td>PS4</td>\n",
       "      <td>PS4</td>\n",
       "      <td>PS4</td>\n",
       "      <td>PSV</td>\n",
       "    </tr>\n",
       "    <tr>\n",
       "      <th>2</th>\n",
       "      <td>PSV</td>\n",
       "      <td>XOne</td>\n",
       "      <td>XOne</td>\n",
       "      <td>PS4</td>\n",
       "    </tr>\n",
       "    <tr>\n",
       "      <th>3</th>\n",
       "      <td>XOne</td>\n",
       "      <td>3DS</td>\n",
       "      <td>PC</td>\n",
       "      <td>3DS</td>\n",
       "    </tr>\n",
       "    <tr>\n",
       "      <th>4</th>\n",
       "      <td>3DS</td>\n",
       "      <td>PS3</td>\n",
       "      <td>PS3</td>\n",
       "      <td>PS3</td>\n",
       "    </tr>\n",
       "    <tr>\n",
       "      <th>5</th>\n",
       "      <td>PS3</td>\n",
       "      <td>X360</td>\n",
       "      <td>X360</td>\n",
       "      <td>WiiU</td>\n",
       "    </tr>\n",
       "  </tbody>\n",
       "</table>\n",
       "</div>"
      ],
      "text/plain": [
       "  Global    NA    EU    JP\n",
       "1    PS4   PS4   PS4   PSV\n",
       "2    PSV  XOne  XOne   PS4\n",
       "3   XOne   3DS    PC   3DS\n",
       "4    3DS   PS3   PS3   PS3\n",
       "5    PS3  X360  X360  WiiU"
      ]
     },
     "execution_count": 95,
     "metadata": {},
     "output_type": "execute_result"
    }
   ],
   "source": [
    "df=vgsales_df[vgsales_df[\"Year\"]>2014]\n",
    "top5_Global=find_top5_plf(df)\n",
    "top5_NA=find_top5_plf(df[(df[\"Year\"]>2009) & (df[\"NA_Sales\"]>0)])\n",
    "top5_EU=find_top5_plf(df[(df[\"Year\"]>2009) & (df[\"EU_Sales\"]>0)])\n",
    "top5_JP=find_top5_plf(df[(df[\"Year\"]>2009) & (df[\"JP_Sales\"]>0)])\n",
    "top5_Platform = pd.DataFrame(list(zip(top5_Global, top5_NA,top5_EU,top5_JP)),index=[1,2,3,4,5],columns =['Global', 'NA','EU','JP'])\n"
   ]
  },
  {
   "cell_type": "markdown",
   "metadata": {},
   "source": [
    "**Nhận xét**: Có thể thấy xu thế nền tảng chơi game trong 5 năm gần đây là \"PS4\",\"XOne\" vì đây là 2 nền tảng có mặt hầu hết ở từng khu vực và đặt biệt là nền tảng \"**PS4**\" dẫn đầu về số lượng game bán chạy ở hầu hết các khu vực."
   ]
  },
  {
   "cell_type": "code",
   "execution_count": null,
   "metadata": {},
   "outputs": [],
   "source": []
  }
 ],
 "metadata": {
  "kernelspec": {
   "display_name": "Python 3",
   "language": "python",
   "name": "python3"
  },
  "language_info": {
   "codemirror_mode": {
    "name": "ipython",
    "version": 3
   },
   "file_extension": ".py",
   "mimetype": "text/x-python",
   "name": "python",
   "nbconvert_exporter": "python",
   "pygments_lexer": "ipython3",
   "version": "3.8.5"
  }
 },
 "nbformat": 4,
 "nbformat_minor": 4
}
